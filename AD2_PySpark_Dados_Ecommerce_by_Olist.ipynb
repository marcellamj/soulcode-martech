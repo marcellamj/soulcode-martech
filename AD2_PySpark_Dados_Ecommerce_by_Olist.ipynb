{
  "nbformat": 4,
  "nbformat_minor": 0,
  "metadata": {
    "colab": {
      "provenance": [],
      "toc_visible": true,
      "authorship_tag": "ABX9TyNjxYAuw4LeovL4zS0LfOWw",
      "include_colab_link": true
    },
    "kernelspec": {
      "name": "python3",
      "display_name": "Python 3"
    },
    "language_info": {
      "name": "python"
    }
  },
  "cells": [
    {
      "cell_type": "markdown",
      "metadata": {
        "id": "view-in-github",
        "colab_type": "text"
      },
      "source": [
        "<a href=\"https://colab.research.google.com/github/marcellamj/soulcode-martech/blob/main/AD2_PySpark_Dados_Ecommerce_by_Olist.ipynb\" target=\"_parent\"><img src=\"https://colab.research.google.com/assets/colab-badge.svg\" alt=\"Open In Colab\"/></a>"
      ]
    },
    {
      "cell_type": "markdown",
      "source": [
        "# PySpark"
      ],
      "metadata": {
        "id": "CIXSo7-wAVAN"
      }
    },
    {
      "cell_type": "markdown",
      "source": [
        "## Importações"
      ],
      "metadata": {
        "id": "bsnfnh3FPUM-"
      }
    },
    {
      "cell_type": "markdown",
      "source": [
        "### Instalando os requisitos necessários"
      ],
      "metadata": {
        "id": "ACQCHf9OCBrJ"
      }
    },
    {
      "cell_type": "code",
      "source": [
        "!apt-get install openjdk-8-jdk-headless -qq > /dev/null\n",
        "!wget -q http://archive.apache.org/dist/spark/spark-3.1.1/spark-3.1.1-bin-hadoop3.2.tgz\n",
        "!tar xf spark-3.1.1-bin-hadoop3.2.tgz\n",
        "!pip install -q findspark"
      ],
      "metadata": {
        "id": "ux0Rid8HAjXe"
      },
      "execution_count": null,
      "outputs": []
    },
    {
      "cell_type": "markdown",
      "source": [
        "### Importando as ferramentas e criando o ambiente virtual para o spark"
      ],
      "metadata": {
        "id": "5kedaI7qCDMP"
      }
    },
    {
      "cell_type": "code",
      "source": [
        "import os\n",
        "os.environ[\"JAVA_HOME\"] = \"/usr/lib/jvm/java-8-openjdk-amd64\"\n",
        "os.environ[\"SPARK_HOME\"] = \"/content/spark-3.1.1-bin-hadoop3.2\""
      ],
      "metadata": {
        "id": "ktph3vOeAkSs"
      },
      "execution_count": null,
      "outputs": []
    },
    {
      "cell_type": "markdown",
      "source": [
        "### Criando a sessão clusterizada do PySpark"
      ],
      "metadata": {
        "id": "VfHPGhZdCEwj"
      }
    },
    {
      "cell_type": "code",
      "source": [
        "import findspark\n",
        "findspark.init()\n",
        "from pyspark.sql import SparkSession\n",
        "spark = SparkSession.builder.master(\"local[*]\").getOrCreate()\n",
        "from pyspark.sql.functions import regexp_replace\n",
        "spark.conf.set(\"spark.sql.repl.eagerEval.enabled\", True) # Para deixar a visualição das tabelas mais amigável\n",
        "spark"
      ],
      "metadata": {
        "id": "fNPc9cNqAlSa",
        "colab": {
          "base_uri": "https://localhost:8080/",
          "height": 219
        },
        "outputId": "c09cc095-651a-455e-c501-19a4b3ac336b"
      },
      "execution_count": null,
      "outputs": [
        {
          "output_type": "execute_result",
          "data": {
            "text/plain": [
              "<pyspark.sql.session.SparkSession at 0x7b77182fef20>"
            ],
            "text/html": [
              "\n",
              "            <div>\n",
              "                <p><b>SparkSession - in-memory</b></p>\n",
              "                \n",
              "        <div>\n",
              "            <p><b>SparkContext</b></p>\n",
              "\n",
              "            <p><a href=\"http://719d8de6efb3:4040\">Spark UI</a></p>\n",
              "\n",
              "            <dl>\n",
              "              <dt>Version</dt>\n",
              "                <dd><code>v3.1.1</code></dd>\n",
              "              <dt>Master</dt>\n",
              "                <dd><code>local[*]</code></dd>\n",
              "              <dt>AppName</dt>\n",
              "                <dd><code>pyspark-shell</code></dd>\n",
              "            </dl>\n",
              "        </div>\n",
              "        \n",
              "            </div>\n",
              "        "
            ]
          },
          "metadata": {},
          "execution_count": 3
        }
      ]
    },
    {
      "cell_type": "code",
      "source": [
        "import pandas as pd"
      ],
      "metadata": {
        "id": "hxOGDTHLAmg6"
      },
      "execution_count": null,
      "outputs": []
    },
    {
      "cell_type": "markdown",
      "source": [
        "## Leitura dos dados\n"
      ],
      "metadata": {
        "id": "ZYb9j_KoDqz0"
      }
    },
    {
      "cell_type": "markdown",
      "source": [
        "Fonte: https://www.kaggle.com/code/harshggupta22/e-commerce-analysis-pyspark/notebook"
      ],
      "metadata": {
        "id": "Mq9aNa44iGbP"
      }
    },
    {
      "cell_type": "code",
      "source": [
        "# Realizando leitura dos dados: orders\n",
        "df_orders = spark.read.format(\"csv\")\\\n",
        "    .option(\"inferSchema\", \"true\")\\\n",
        "    .option(\"header\", \"true\")\\\n",
        "    .load('/content/orders.csv')\n",
        "\n",
        "# Realizando leitura dos dados: order items\n",
        "df_order_items = spark.read.format(\"csv\")\\\n",
        "    .option(\"inferSchema\", \"true\")\\\n",
        "    .option(\"header\", \"true\")\\\n",
        "    .load('/content/order_items.csv')\n",
        "\n",
        "# Realizando leitura dos dados: order payments\n",
        "df_order_payments = spark.read.format(\"csv\")\\\n",
        "    .option(\"inferSchema\", \"true\")\\\n",
        "    .option(\"header\", \"true\")\\\n",
        "    .load('/content/order_payments.csv')\n",
        "\n",
        "# Realizando leitura dos dados: order reviews\n",
        "df_order_reviews = spark.read.format(\"csv\")\\\n",
        "    .option(\"inferSchema\", \"true\")\\\n",
        "    .option(\"header\", \"true\")\\\n",
        "    .load('/content/order_reviews.csv')\n",
        "\n",
        "# Realizando leitura dos dados: products\n",
        "df_products = spark.read.format(\"csv\")\\\n",
        "    .option(\"inferSchema\", \"true\")\\\n",
        "    .option(\"header\", \"true\")\\\n",
        "    .load('/content/products.csv')\n",
        "\n",
        "# Realizando leitura dos dados: customers\n",
        "df_customers = spark.read.format(\"csv\")\\\n",
        "    .option(\"inferSchema\", \"true\")\\\n",
        "    .option(\"header\", \"true\")\\\n",
        "    .load('/content/customers.csv')\n",
        "\n",
        "# Realizando leitura dos dados: geolocation\n",
        "df_geolocation = spark.read.format(\"csv\")\\\n",
        "    .option(\"inferSchema\", \"true\")\\\n",
        "    .option(\"header\", \"true\")\\\n",
        "    .load('/content/geolocation.csv')\n",
        "\n",
        "# Realizando leitura dos dados: sellers\n",
        "df_sellers = spark.read.format(\"csv\")\\\n",
        "    .option(\"inferSchema\", \"true\")\\\n",
        "    .option(\"header\", \"true\")\\\n",
        "    .load('/content/sellers.csv')"
      ],
      "metadata": {
        "id": "nHI_RC8zHDe5"
      },
      "execution_count": null,
      "outputs": []
    },
    {
      "cell_type": "markdown",
      "source": [
        "Alternativa, por tipagem manual:\n",
        "```\n",
        "# Importando tipos primitivos\n",
        "from pyspark.sql.types import StructType, StructField, \\\n",
        "    StringType, IntegerType\n",
        "\n",
        "# Definindo schema\n",
        "customers_schema = StructType([\n",
        "    StructField(\"customer_id\", StringType(), nullable=True, metadata={\"description\": \"Id do cliente\"}),\n",
        "    StructField(\"customer_unique_id\", StringType(), nullable=True, metadata={\"description\": \"Id único do cliente\"}),\n",
        "    StructField(\"customer_zip_code_prefix\", IntegerType(), nullable=True, metadata={\"description\": \"Prefixo do CEP do cliente\"}),\n",
        "    StructField(\"customer_city\", StringType(), nullable=True, metadata={\"description\": \"Cidade do cliente\"}),\n",
        "    StructField(\"customer_state\", StringType(), nullable=True, metadata={\"description\": \"Estado do cliente\"})\n",
        "])\n",
        "\n",
        "# Realizando a leitura dos dados\n",
        "df_customers = spark.read.format(\"csv\")\\\n",
        "    .option(\"header\", \"true\")\\\n",
        "    .schema(customers_schema)\\\n",
        "    .load(os.path.join(data_path, \"customers/\"))\n",
        "\n",
        "# Verificando amostra dos dados\n",
        "df_customers.printSchema()\n",
        "df_customers.show(5)\n",
        "```"
      ],
      "metadata": {
        "id": "-QeGN30YMgmI"
      }
    },
    {
      "cell_type": "markdown",
      "source": [
        "## Exemplos fictícios"
      ],
      "metadata": {
        "id": "4qHQ2bYzPBUh"
      }
    },
    {
      "cell_type": "code",
      "source": [
        "from pyspark.sql.functions import col\n",
        "col(\"anomes\") * 100 + 1\n",
        "col(\"valor_A\")>col(\"valor_B\")\n",
        "\n",
        "from pyspark.sql.functions import lpad,lower,split,expr\n",
        "lpad(col(\"moeda\"),2,\"\")\n",
        "lower(col(\"sigla\"))\n",
        "split(\"nome_completo\", \"\")"
      ],
      "metadata": {
        "colab": {
          "base_uri": "https://localhost:8080/"
        },
        "id": "peaEbT0sMLto",
        "outputId": "cbc37f0c-6d32-4ba4-d57d-17171635cc5b"
      },
      "execution_count": null,
      "outputs": [
        {
          "output_type": "execute_result",
          "data": {
            "text/plain": [
              "Column<'split(nome_completo, , -1)'>"
            ]
          },
          "metadata": {},
          "execution_count": 43
        }
      ]
    },
    {
      "cell_type": "markdown",
      "source": [
        "## Manipulação dos dados"
      ],
      "metadata": {
        "id": "mbdloudLPHTd"
      }
    },
    {
      "cell_type": "markdown",
      "source": [
        "### Exibir"
      ],
      "metadata": {
        "id": "oRrwbpeHcFR0"
      }
    },
    {
      "cell_type": "code",
      "source": [
        "df_orders.show(2)\n",
        "df_order_items.show(2)\n",
        "df_order_payments.show(2)\n",
        "df_order_reviews.show(2)\n",
        "df_products.show(2)\n",
        "df_geolocation.show(2)\n",
        "df_sellers.show(2)"
      ],
      "metadata": {
        "colab": {
          "base_uri": "https://localhost:8080/"
        },
        "id": "ERY8GSMIHD8Q",
        "outputId": "764814f9-2977-4be6-da1d-79090343faa9"
      },
      "execution_count": null,
      "outputs": [
        {
          "output_type": "stream",
          "name": "stdout",
          "text": [
            "+--------------------+--------------------+------------+------------------------+-------------------+----------------------------+-----------------------------+-----------------------------+\n",
            "|            order_id|         customer_id|order_status|order_purchase_timestamp|  order_approved_at|order_delivered_carrier_date|order_delivered_customer_date|order_estimated_delivery_date|\n",
            "+--------------------+--------------------+------------+------------------------+-------------------+----------------------------+-----------------------------+-----------------------------+\n",
            "|e481f51cbdc54678b...|9ef432eb625129730...|   delivered|     2017-10-02 10:56:33|2017-10-02 11:07:15|         2017-10-04 19:55:00|          2017-10-10 21:25:13|          2017-10-18 00:00:00|\n",
            "|53cdb2fc8bc7dce0b...|b0830fb4747a6c6d2...|   delivered|     2018-07-24 20:41:37|2018-07-26 03:24:27|         2018-07-26 14:31:00|          2018-08-07 15:27:45|          2018-08-13 00:00:00|\n",
            "+--------------------+--------------------+------------+------------------------+-------------------+----------------------------+-----------------------------+-----------------------------+\n",
            "only showing top 2 rows\n",
            "\n",
            "+--------------------+-------------+--------------------+--------------------+-------------------+-----+-------------+\n",
            "|            order_id|order_item_id|          product_id|           seller_id|shipping_limit_date|price|freight_value|\n",
            "+--------------------+-------------+--------------------+--------------------+-------------------+-----+-------------+\n",
            "|00010242fe8c5a6d1...|            1|4244733e06e7ecb49...|48436dade18ac8b2b...|2017-09-19 09:45:35| 58.9|        13.29|\n",
            "|00018f77f2f0320c5...|            1|e5f2d52b802189ee6...|dd7ddc04e1b6c2c61...|2017-05-03 11:05:13|239.9|        19.93|\n",
            "+--------------------+-------------+--------------------+--------------------+-------------------+-----+-------------+\n",
            "only showing top 2 rows\n",
            "\n",
            "+--------------------+------------------+------------+--------------------+-------------+\n",
            "|            order_id|payment_sequential|payment_type|payment_installments|payment_value|\n",
            "+--------------------+------------------+------------+--------------------+-------------+\n",
            "|b81ef226f3fe1789b...|                 1| credit_card|                   8|        99.33|\n",
            "|a9810da82917af2d9...|                 1| credit_card|                   1|        24.39|\n",
            "+--------------------+------------------+------------+--------------------+-------------+\n",
            "only showing top 2 rows\n",
            "\n",
            "+--------------------+--------------------+------------+--------------------+----------------------+--------------------+-----------------------+\n",
            "|           review_id|            order_id|review_score|review_comment_title|review_comment_message|review_creation_date|review_answer_timestamp|\n",
            "+--------------------+--------------------+------------+--------------------+----------------------+--------------------+-----------------------+\n",
            "|7bc2406110b926393...|73fc7af87114b3971...|           4|                null|                  null| 2018-01-18 00:00:00|    2018-01-18 21:46:59|\n",
            "|80e641a11e56f04c1...|a548910a1c6147796...|           5|                null|                  null| 2018-03-10 00:00:00|    2018-03-11 03:05:13|\n",
            "+--------------------+--------------------+------------+--------------------+----------------------+--------------------+-----------------------+\n",
            "only showing top 2 rows\n",
            "\n",
            "+--------------------+---------------------+-------------------+--------------------------+------------------+----------------+-----------------+-----------------+----------------+\n",
            "|          product_id|product_category_name|product_name_lenght|product_description_lenght|product_photos_qty|product_weight_g|product_length_cm|product_height_cm|product_width_cm|\n",
            "+--------------------+---------------------+-------------------+--------------------------+------------------+----------------+-----------------+-----------------+----------------+\n",
            "|1e9e8ef04dbcff454...|           perfumaria|                 40|                       287|                 1|             225|               16|               10|              14|\n",
            "|3aa071139cb16b67c...|                artes|                 44|                       276|                 1|            1000|               30|               18|              20|\n",
            "+--------------------+---------------------+-------------------+--------------------------+------------------+----------------+-----------------+-----------------+----------------+\n",
            "only showing top 2 rows\n",
            "\n",
            "+---------------------------+-------------------+------------------+----------------+-----------------+\n",
            "|geolocation_zip_code_prefix|    geolocation_lat|   geolocation_lng|geolocation_city|geolocation_state|\n",
            "+---------------------------+-------------------+------------------+----------------+-----------------+\n",
            "|                       1037| -23.54562128115268|-46.63929204800168|       sao paulo|               SP|\n",
            "|                       1046|-23.546081127035535|-46.64482029837157|       sao paulo|               SP|\n",
            "+---------------------------+-------------------+------------------+----------------+-----------------+\n",
            "only showing top 2 rows\n",
            "\n",
            "+--------------------+----------------------+-----------+------------+\n",
            "|           seller_id|seller_zip_code_prefix|seller_city|seller_state|\n",
            "+--------------------+----------------------+-----------+------------+\n",
            "|3442f8959a84dea7e...|                 13023|   campinas|          SP|\n",
            "|d1b65fc7debc3361e...|                 13844| mogi guacu|          SP|\n",
            "+--------------------+----------------------+-----------+------------+\n",
            "only showing top 2 rows\n",
            "\n"
          ]
        }
      ]
    },
    {
      "cell_type": "code",
      "source": [
        "display(df_orders)"
      ],
      "metadata": {
        "colab": {
          "base_uri": "https://localhost:8080/",
          "height": 878
        },
        "id": "OJQ1V1FrU24a",
        "outputId": "4e4f08c3-d83a-4398-cdd6-d115fb6bdea7"
      },
      "execution_count": null,
      "outputs": [
        {
          "output_type": "display_data",
          "data": {
            "text/plain": [
              "+--------------------+--------------------+------------+------------------------+-------------------+----------------------------+-----------------------------+-----------------------------+\n",
              "|            order_id|         customer_id|order_status|order_purchase_timestamp|  order_approved_at|order_delivered_carrier_date|order_delivered_customer_date|order_estimated_delivery_date|\n",
              "+--------------------+--------------------+------------+------------------------+-------------------+----------------------------+-----------------------------+-----------------------------+\n",
              "|e481f51cbdc54678b...|9ef432eb625129730...|   delivered|     2017-10-02 10:56:33|2017-10-02 11:07:15|         2017-10-04 19:55:00|          2017-10-10 21:25:13|          2017-10-18 00:00:00|\n",
              "|53cdb2fc8bc7dce0b...|b0830fb4747a6c6d2...|   delivered|     2018-07-24 20:41:37|2018-07-26 03:24:27|         2018-07-26 14:31:00|          2018-08-07 15:27:45|          2018-08-13 00:00:00|\n",
              "|47770eb9100c2d0c4...|41ce2a54c0b03bf34...|   delivered|     2018-08-08 08:38:49|2018-08-08 08:55:23|         2018-08-08 13:50:00|          2018-08-17 18:06:29|          2018-09-04 00:00:00|\n",
              "|949d5b44dbf5de918...|f88197465ea7920ad...|   delivered|     2017-11-18 19:28:06|2017-11-18 19:45:59|         2017-11-22 13:39:59|          2017-12-02 00:28:42|          2017-12-15 00:00:00|\n",
              "|ad21c59c0840e6cb8...|8ab97904e6daea886...|   delivered|     2018-02-13 21:18:39|2018-02-13 22:20:29|         2018-02-14 19:46:34|          2018-02-16 18:17:02|          2018-02-26 00:00:00|\n",
              "|a4591c265e18cb1dc...|503740e9ca751ccdd...|   delivered|     2017-07-09 21:57:05|2017-07-09 22:10:13|         2017-07-11 14:58:04|          2017-07-26 10:57:55|          2017-08-01 00:00:00|\n",
              "|136cce7faa42fdb2c...|ed0271e0b7da060a3...|    invoiced|     2017-04-11 12:22:08|2017-04-13 13:25:17|                        null|                         null|          2017-05-09 00:00:00|\n",
              "|6514b8ad8028c9f2c...|9bdf08b4b3b52b552...|   delivered|     2017-05-16 13:10:30|2017-05-16 13:22:11|         2017-05-22 10:07:46|          2017-05-26 12:55:51|          2017-06-07 00:00:00|\n",
              "|76c6e866289321a7c...|f54a9f0e6b351c431...|   delivered|     2017-01-23 18:29:09|2017-01-25 02:50:47|         2017-01-26 14:16:31|          2017-02-02 14:08:10|          2017-03-06 00:00:00|\n",
              "|e69bfb5eb88e0ed6a...|31ad1d1b63eb99624...|   delivered|     2017-07-29 11:55:02|2017-07-29 12:05:32|         2017-08-10 19:45:24|          2017-08-16 17:14:30|          2017-08-23 00:00:00|\n",
              "|e6ce16cb79ec1d90b...|494dded5b201313c6...|   delivered|     2017-05-16 19:41:10|2017-05-16 19:50:18|         2017-05-18 11:40:40|          2017-05-29 11:18:31|          2017-06-07 00:00:00|\n",
              "|34513ce0c4fab462a...|7711cf624183d843a...|   delivered|     2017-07-13 19:58:11|2017-07-13 20:10:08|         2017-07-14 18:43:29|          2017-07-19 14:04:48|          2017-08-08 00:00:00|\n",
              "|82566a660a982b15f...|d3e3b74c766bc6214...|   delivered|     2018-06-07 10:06:19|2018-06-09 03:13:12|         2018-06-11 13:29:00|          2018-06-19 12:05:52|          2018-07-18 00:00:00|\n",
              "|5ff96c15d0b717ac6...|19402a48fe860416a...|   delivered|     2018-07-25 17:44:10|2018-07-25 17:55:14|         2018-07-26 13:16:00|          2018-07-30 15:52:25|          2018-08-08 00:00:00|\n",
              "|432aaf21d85167c2c...|3df704f53d3f1d481...|   delivered|     2018-03-01 14:14:28|2018-03-01 15:10:47|         2018-03-02 21:09:20|          2018-03-12 23:36:26|          2018-03-21 00:00:00|\n",
              "|dcb36b511fcac050b...|3b6828a50ffe54694...|   delivered|     2018-06-07 19:03:12|2018-06-12 23:31:02|         2018-06-11 14:54:00|          2018-06-21 15:34:32|          2018-07-04 00:00:00|\n",
              "|403b97836b0c04a62...|738b086814c6fcc74...|   delivered|     2018-01-02 19:00:43|2018-01-02 19:09:04|         2018-01-03 18:19:09|          2018-01-20 01:38:59|          2018-02-06 00:00:00|\n",
              "|116f0b09343b49556...|3187789bec9909876...|   delivered|     2017-12-26 23:41:31|2017-12-26 23:50:22|         2017-12-28 18:33:05|          2018-01-08 22:36:36|          2018-01-29 00:00:00|\n",
              "|85ce859fd6dc634de...|059f7fc5719c7da6c...|   delivered|     2017-11-21 00:03:41|2017-11-21 00:14:22|         2017-11-23 21:32:26|          2017-11-27 18:28:00|          2017-12-11 00:00:00|\n",
              "|83018ec114eee8641...|7f8c8b9c2ae27bf33...|   delivered|     2017-10-26 15:54:26|2017-10-26 16:08:14|         2017-10-26 21:46:53|          2017-11-08 22:22:00|          2017-11-23 00:00:00|\n",
              "+--------------------+--------------------+------------+------------------------+-------------------+----------------------------+-----------------------------+-----------------------------+\n",
              "only showing top 20 rows"
            ],
            "text/html": [
              "<table border='1'>\n",
              "<tr><th>order_id</th><th>customer_id</th><th>order_status</th><th>order_purchase_timestamp</th><th>order_approved_at</th><th>order_delivered_carrier_date</th><th>order_delivered_customer_date</th><th>order_estimated_delivery_date</th></tr>\n",
              "<tr><td>e481f51cbdc54678b...</td><td>9ef432eb625129730...</td><td>delivered</td><td>2017-10-02 10:56:33</td><td>2017-10-02 11:07:15</td><td>2017-10-04 19:55:00</td><td>2017-10-10 21:25:13</td><td>2017-10-18 00:00:00</td></tr>\n",
              "<tr><td>53cdb2fc8bc7dce0b...</td><td>b0830fb4747a6c6d2...</td><td>delivered</td><td>2018-07-24 20:41:37</td><td>2018-07-26 03:24:27</td><td>2018-07-26 14:31:00</td><td>2018-08-07 15:27:45</td><td>2018-08-13 00:00:00</td></tr>\n",
              "<tr><td>47770eb9100c2d0c4...</td><td>41ce2a54c0b03bf34...</td><td>delivered</td><td>2018-08-08 08:38:49</td><td>2018-08-08 08:55:23</td><td>2018-08-08 13:50:00</td><td>2018-08-17 18:06:29</td><td>2018-09-04 00:00:00</td></tr>\n",
              "<tr><td>949d5b44dbf5de918...</td><td>f88197465ea7920ad...</td><td>delivered</td><td>2017-11-18 19:28:06</td><td>2017-11-18 19:45:59</td><td>2017-11-22 13:39:59</td><td>2017-12-02 00:28:42</td><td>2017-12-15 00:00:00</td></tr>\n",
              "<tr><td>ad21c59c0840e6cb8...</td><td>8ab97904e6daea886...</td><td>delivered</td><td>2018-02-13 21:18:39</td><td>2018-02-13 22:20:29</td><td>2018-02-14 19:46:34</td><td>2018-02-16 18:17:02</td><td>2018-02-26 00:00:00</td></tr>\n",
              "<tr><td>a4591c265e18cb1dc...</td><td>503740e9ca751ccdd...</td><td>delivered</td><td>2017-07-09 21:57:05</td><td>2017-07-09 22:10:13</td><td>2017-07-11 14:58:04</td><td>2017-07-26 10:57:55</td><td>2017-08-01 00:00:00</td></tr>\n",
              "<tr><td>136cce7faa42fdb2c...</td><td>ed0271e0b7da060a3...</td><td>invoiced</td><td>2017-04-11 12:22:08</td><td>2017-04-13 13:25:17</td><td>null</td><td>null</td><td>2017-05-09 00:00:00</td></tr>\n",
              "<tr><td>6514b8ad8028c9f2c...</td><td>9bdf08b4b3b52b552...</td><td>delivered</td><td>2017-05-16 13:10:30</td><td>2017-05-16 13:22:11</td><td>2017-05-22 10:07:46</td><td>2017-05-26 12:55:51</td><td>2017-06-07 00:00:00</td></tr>\n",
              "<tr><td>76c6e866289321a7c...</td><td>f54a9f0e6b351c431...</td><td>delivered</td><td>2017-01-23 18:29:09</td><td>2017-01-25 02:50:47</td><td>2017-01-26 14:16:31</td><td>2017-02-02 14:08:10</td><td>2017-03-06 00:00:00</td></tr>\n",
              "<tr><td>e69bfb5eb88e0ed6a...</td><td>31ad1d1b63eb99624...</td><td>delivered</td><td>2017-07-29 11:55:02</td><td>2017-07-29 12:05:32</td><td>2017-08-10 19:45:24</td><td>2017-08-16 17:14:30</td><td>2017-08-23 00:00:00</td></tr>\n",
              "<tr><td>e6ce16cb79ec1d90b...</td><td>494dded5b201313c6...</td><td>delivered</td><td>2017-05-16 19:41:10</td><td>2017-05-16 19:50:18</td><td>2017-05-18 11:40:40</td><td>2017-05-29 11:18:31</td><td>2017-06-07 00:00:00</td></tr>\n",
              "<tr><td>34513ce0c4fab462a...</td><td>7711cf624183d843a...</td><td>delivered</td><td>2017-07-13 19:58:11</td><td>2017-07-13 20:10:08</td><td>2017-07-14 18:43:29</td><td>2017-07-19 14:04:48</td><td>2017-08-08 00:00:00</td></tr>\n",
              "<tr><td>82566a660a982b15f...</td><td>d3e3b74c766bc6214...</td><td>delivered</td><td>2018-06-07 10:06:19</td><td>2018-06-09 03:13:12</td><td>2018-06-11 13:29:00</td><td>2018-06-19 12:05:52</td><td>2018-07-18 00:00:00</td></tr>\n",
              "<tr><td>5ff96c15d0b717ac6...</td><td>19402a48fe860416a...</td><td>delivered</td><td>2018-07-25 17:44:10</td><td>2018-07-25 17:55:14</td><td>2018-07-26 13:16:00</td><td>2018-07-30 15:52:25</td><td>2018-08-08 00:00:00</td></tr>\n",
              "<tr><td>432aaf21d85167c2c...</td><td>3df704f53d3f1d481...</td><td>delivered</td><td>2018-03-01 14:14:28</td><td>2018-03-01 15:10:47</td><td>2018-03-02 21:09:20</td><td>2018-03-12 23:36:26</td><td>2018-03-21 00:00:00</td></tr>\n",
              "<tr><td>dcb36b511fcac050b...</td><td>3b6828a50ffe54694...</td><td>delivered</td><td>2018-06-07 19:03:12</td><td>2018-06-12 23:31:02</td><td>2018-06-11 14:54:00</td><td>2018-06-21 15:34:32</td><td>2018-07-04 00:00:00</td></tr>\n",
              "<tr><td>403b97836b0c04a62...</td><td>738b086814c6fcc74...</td><td>delivered</td><td>2018-01-02 19:00:43</td><td>2018-01-02 19:09:04</td><td>2018-01-03 18:19:09</td><td>2018-01-20 01:38:59</td><td>2018-02-06 00:00:00</td></tr>\n",
              "<tr><td>116f0b09343b49556...</td><td>3187789bec9909876...</td><td>delivered</td><td>2017-12-26 23:41:31</td><td>2017-12-26 23:50:22</td><td>2017-12-28 18:33:05</td><td>2018-01-08 22:36:36</td><td>2018-01-29 00:00:00</td></tr>\n",
              "<tr><td>85ce859fd6dc634de...</td><td>059f7fc5719c7da6c...</td><td>delivered</td><td>2017-11-21 00:03:41</td><td>2017-11-21 00:14:22</td><td>2017-11-23 21:32:26</td><td>2017-11-27 18:28:00</td><td>2017-12-11 00:00:00</td></tr>\n",
              "<tr><td>83018ec114eee8641...</td><td>7f8c8b9c2ae27bf33...</td><td>delivered</td><td>2017-10-26 15:54:26</td><td>2017-10-26 16:08:14</td><td>2017-10-26 21:46:53</td><td>2017-11-08 22:22:00</td><td>2017-11-23 00:00:00</td></tr>\n",
              "</table>\n",
              "only showing top 20 rows\n"
            ]
          },
          "metadata": {}
        }
      ]
    },
    {
      "cell_type": "markdown",
      "source": [
        "### Criando novo df de consulta\n",
        "\n",
        "* colunas renomeadas e tipadas"
      ],
      "metadata": {
        "id": "pUFfxsZ2XgQT"
      }
    },
    {
      "cell_type": "code",
      "source": [
        "df_orders_prep = df_orders.selectExpr(\n",
        "    \"order_id AS id_pedido\",\n",
        "    \"to_date(order_purchase_timestamp) AS dt_compra\",\n",
        "    \"to_date(order_approved_at) AS dt_aprovacao\",\n",
        "    \"to_date(order_delivered_customer_date) AS dt_entrega\",\n",
        "    \"upper(order_status) AS status_pedido\",\n",
        "    \"datediff(order_delivered_customer_date, order_purchase_timestamp) AS dias_para_entrega\",\n",
        "    \"case when upper(order_status) = 'DELIVERED' then 1 else 0 end as flag_entregue\"\n",
        ")\n",
        "\n",
        "# Visualizando dados\n",
        "df_orders_prep.show(5)"
      ],
      "metadata": {
        "colab": {
          "base_uri": "https://localhost:8080/"
        },
        "id": "QYwPVmFbTvfU",
        "outputId": "f5be8189-ffb0-47c8-b0c8-035ced680d6d"
      },
      "execution_count": null,
      "outputs": [
        {
          "output_type": "stream",
          "name": "stdout",
          "text": [
            "+--------------------+----------+------------+----------+-------------+-----------------+-------------+\n",
            "|           id_pedido| dt_compra|dt_aprovacao|dt_entrega|status_pedido|dias_para_entrega|flag_entregue|\n",
            "+--------------------+----------+------------+----------+-------------+-----------------+-------------+\n",
            "|e481f51cbdc54678b...|2017-10-02|  2017-10-02|2017-10-10|    DELIVERED|                8|            1|\n",
            "|53cdb2fc8bc7dce0b...|2018-07-24|  2018-07-26|2018-08-07|    DELIVERED|               14|            1|\n",
            "|47770eb9100c2d0c4...|2018-08-08|  2018-08-08|2018-08-17|    DELIVERED|                9|            1|\n",
            "|949d5b44dbf5de918...|2017-11-18|  2017-11-18|2017-12-02|    DELIVERED|               14|            1|\n",
            "|ad21c59c0840e6cb8...|2018-02-13|  2018-02-13|2018-02-16|    DELIVERED|                3|            1|\n",
            "+--------------------+----------+------------+----------+-------------+-----------------+-------------+\n",
            "only showing top 5 rows\n",
            "\n"
          ]
        }
      ]
    },
    {
      "cell_type": "markdown",
      "source": [
        "### Adicionando colunas em um df"
      ],
      "metadata": {
        "id": "lH10bGgTbnk_"
      }
    },
    {
      "cell_type": "code",
      "source": [
        "# Adicionando colunas em um DataFrame\n",
        "from pyspark.sql.functions import expr\n",
        "df_payments_prep = df_order_payments\\\n",
        "    .withColumn(\"moeda\", expr(\"'R$'\"))\\\n",
        "    .withColumn(\"vlr_pgto_moeda\", expr(\"concat(moeda, cast(payment_value AS string))\"))\\\n",
        "    .withColumn(\"tipo_pagamento\", split(col(\"payment_type\"), \"_\")[0])\n",
        "\n",
        "# .withColumn(\"moeda\", expr(\"'R$'\"))\n",
        "# cria a coluna moeda preenchida com a espressão 'R$'\n",
        "\n",
        "# Visualizando dados\n",
        "df_payments_prep.show(5)"
      ],
      "metadata": {
        "colab": {
          "base_uri": "https://localhost:8080/"
        },
        "id": "8nWJXcHmYDgC",
        "outputId": "646f8620-7255-4a62-9290-d2eef8ee432b"
      },
      "execution_count": null,
      "outputs": [
        {
          "output_type": "stream",
          "name": "stdout",
          "text": [
            "+--------------------+------------------+------------+--------------------+-------------+-----+--------------+--------------+\n",
            "|            order_id|payment_sequential|payment_type|payment_installments|payment_value|moeda|vlr_pgto_moeda|tipo_pagamento|\n",
            "+--------------------+------------------+------------+--------------------+-------------+-----+--------------+--------------+\n",
            "|b81ef226f3fe1789b...|                 1| credit_card|                   8|        99.33|   R$|       R$99.33|        credit|\n",
            "|a9810da82917af2d9...|                 1| credit_card|                   1|        24.39|   R$|       R$24.39|        credit|\n",
            "|25e8ea4e93396b6fa...|                 1| credit_card|                   1|        65.71|   R$|       R$65.71|        credit|\n",
            "|ba78997921bbcdc13...|                 1| credit_card|                   8|       107.78|   R$|      R$107.78|        credit|\n",
            "|42fdf880ba16b47b5...|                 1| credit_card|                   2|       128.45|   R$|      R$128.45|        credit|\n",
            "+--------------------+------------------+------------+--------------------+-------------+-----+--------------+--------------+\n",
            "only showing top 5 rows\n",
            "\n"
          ]
        }
      ]
    },
    {
      "cell_type": "code",
      "source": [
        "'''\n",
        "Cria novas colunas e renomeia as antigas do df_orders_payments e as armazena\n",
        "em df_payments_prep\n",
        "'''\n",
        "df_payments_prep = df_order_payments\\\n",
        "    .withColumnRenamed(\"order_id\", \"id_pedido\")\\\n",
        "    .withColumnRenamed(\"payment_sequential\", \"parcela_pgto\")\\\n",
        "    .withColumnRenamed(\"payment_type\", \"tipo_pgto\")\\\n",
        "    .withColumnRenamed(\"payment_installments\", \"qtd_parcelas\")\\\n",
        "    .withColumnRenamed(\"payment_value\", \"vlr_pgto\")\\\n",
        "    .withColumn(\"moeda\", expr(\"'R$'\"))\\\n",
        "    .withColumn(\"vlr_pgto_moeda\", expr(\"concat(moeda, cast(\"'vlr_pgto'\" AS string))\"))\\\n",
        "    .withColumn(\"tipo_pagamento\", split(col(\"tipo_pgto\"), \"_\")[0])\n",
        "# .withColumnRenamed(\"order_id\", \"id_pedido\")\\ renomeando a coluna order para id pedido\n",
        "# .withColumnRenamed(\"payment_sequential\", \"parcela_pgto\")\\ remomeando a coluna payment sequential para parcela pgto\n",
        "# .withColumnRenamed(\"payment_type\", \"tipo_pgto\")\\ Renomeando payment type para tipo de pgto\n",
        "# .withColumnRenamed(\"payment_installments\", \"qtd_parcelas\")\\ renomeando payment installments para qtd parcelas\n",
        "# .withColumnRenamed(\"payment_value\", \"vlr_pgto\") renomeando a coluna payment value para vlr pagamento\n",
        "# .withColumn(\"moeda\", expr(\"'R$'\"))\\ Crie uma coluna chamada moeda e preencha com o valor R$\n",
        "# .withColumn(\"vlr_pgto_moeda\", expr(\"concat(moeda, cast(\"'vlr_pgto'\" AS string))\"))\\ Crie a coluna valor pagamento moeda que receba os valores da coluna moeda com os valores da coluna valor pagamento tipando com string\n",
        "# .withColumn(\"tipo_pagamento\", split(col(\"tipo_pgto\"), \"_\")[0]) crie a coluna tipo pagamento e a preencha com a divisão (o split) da coluna tipo pagamento na posição 0\n",
        "# credit_card sendo splitado por underline vira [\"credit\", \"card\"], \"credit\" é o indice 0 e \"card\" é indice 1\n",
        "'''\n",
        "Crio uma coluna com o nome tipo_pagamento e vou na coluna tipo_pgto e splito (separo) os registros dessa coluna que estão a esquerda, ou seja, índice [0] do \"_\"\n",
        "# Então do nome credit_card encontrado nos registros usaremos apenas o nome credit.\n",
        "# col é usado para referenciar uma coluna existente, nesse caso a coluna tipo_pgto... By Bianka\n",
        "'''\n",
        "df_payments_prep.show(5)\n",
        "\n"
      ],
      "metadata": {
        "colab": {
          "base_uri": "https://localhost:8080/"
        },
        "id": "l0ftrC_AbqeZ",
        "outputId": "d2559a9c-2e83-41d5-91d1-5b27bedeb247"
      },
      "execution_count": null,
      "outputs": [
        {
          "output_type": "stream",
          "name": "stdout",
          "text": [
            "+--------------------+------------+-----------+------------+--------+-----+--------------+--------------+\n",
            "|           id_pedido|parcela_pgto|  tipo_pgto|qtd_parcelas|vlr_pgto|moeda|vlr_pgto_moeda|tipo_pagamento|\n",
            "+--------------------+------------+-----------+------------+--------+-----+--------------+--------------+\n",
            "|b81ef226f3fe1789b...|           1|credit_card|           8|   99.33|   R$|       R$99.33|        credit|\n",
            "|a9810da82917af2d9...|           1|credit_card|           1|   24.39|   R$|       R$24.39|        credit|\n",
            "|25e8ea4e93396b6fa...|           1|credit_card|           1|   65.71|   R$|       R$65.71|        credit|\n",
            "|ba78997921bbcdc13...|           1|credit_card|           8|  107.78|   R$|      R$107.78|        credit|\n",
            "|42fdf880ba16b47b5...|           1|credit_card|           2|  128.45|   R$|      R$128.45|        credit|\n",
            "+--------------------+------------+-----------+------------+--------+-----+--------------+--------------+\n",
            "only showing top 5 rows\n",
            "\n"
          ]
        }
      ]
    },
    {
      "cell_type": "markdown",
      "source": [
        "\"moeda\" com o valor literal \"'vlr_pgto'\". O resultado será uma nova string que contém a coluna \"moeda\" seguida pelo valor \"'vlr_pgto'\".\n",
        "\n",
        "moeda: É uma coluna existente no DataFrame, cujo valor será concatenado com o valor literal \"'vlr_pgto'\" na nova coluna.\n",
        "\n",
        "cast(\"'vlr_pgto'\" AS string): É uma expressão que realiza um casting do valor literal \"'vlr_pgto'\" para o tipo de dado \"string\". O valor \"'vlr_pgto'\" é fornecido como uma string literal, e o comando cast garante que ele seja tratado explici\n",
        "Pedro Barrionovo16:22\n",
        "crie a coluna tipo_pagamento splitando os valores da coluna payment_type, usando como separador o caracter underline e selecionando o índice 0 da lista splitada."
      ],
      "metadata": {
        "id": "aFhjl06XjjuS"
      }
    },
    {
      "cell_type": "markdown",
      "source": [
        "### Renomear colunas"
      ],
      "metadata": {
        "id": "rd99yk-EolyY"
      }
    },
    {
      "cell_type": "code",
      "source": [
        "display(df_sellers)"
      ],
      "metadata": {
        "colab": {
          "base_uri": "https://localhost:8080/",
          "height": 511
        },
        "id": "WXPTtTDzlBoi",
        "outputId": "429cba42-2ee4-4e59-b117-d7d7d0d6d3c8"
      },
      "execution_count": null,
      "outputs": [
        {
          "output_type": "display_data",
          "data": {
            "text/plain": [
              "DataFrame[seller_id: string, seller_zip_code_prefix: int, seller_city: string, seller_state: string]"
            ],
            "text/html": [
              "<table border='1'>\n",
              "<tr><th>seller_id</th><th>seller_zip_code_prefix</th><th>seller_city</th><th>seller_state</th></tr>\n",
              "<tr><td>3442f8959a84dea7e...</td><td>13023</td><td>campinas</td><td>SP</td></tr>\n",
              "<tr><td>d1b65fc7debc3361e...</td><td>13844</td><td>mogi guacu</td><td>SP</td></tr>\n",
              "<tr><td>ce3ad9de960102d06...</td><td>20031</td><td>rio de janeiro</td><td>RJ</td></tr>\n",
              "<tr><td>c0f3eea2e14555b6f...</td><td>4195</td><td>sao paulo</td><td>SP</td></tr>\n",
              "<tr><td>51a04a8a6bdcb23de...</td><td>12914</td><td>braganca paulista</td><td>SP</td></tr>\n",
              "<tr><td>c240c4061717ac180...</td><td>20920</td><td>rio de janeiro</td><td>RJ</td></tr>\n",
              "<tr><td>e49c26c3edfa46d22...</td><td>55325</td><td>brejao</td><td>PE</td></tr>\n",
              "<tr><td>1b938a7ec6ac5061a...</td><td>16304</td><td>penapolis</td><td>SP</td></tr>\n",
              "<tr><td>768a86e36ad6aae3d...</td><td>1529</td><td>sao paulo</td><td>SP</td></tr>\n",
              "<tr><td>ccc4bbb5f32a6ab2b...</td><td>80310</td><td>curitiba</td><td>PR</td></tr>\n",
              "<tr><td>8cb7c5ddf41f4d506...</td><td>75110</td><td>anapolis</td><td>GO</td></tr>\n",
              "<tr><td>a7a9b880c49781da6...</td><td>13530</td><td>itirapina</td><td>SP</td></tr>\n",
              "<tr><td>8bd0f31cf0a614c65...</td><td>1222</td><td>sao paulo</td><td>SP</td></tr>\n",
              "<tr><td>05a48cc8859962767...</td><td>5372</td><td>sao paulo</td><td>SP</td></tr>\n",
              "<tr><td>7b8e8ec35bad4b0ef...</td><td>88705</td><td>tubarao</td><td>SC</td></tr>\n",
              "<tr><td>1444c08e64d55fb3c...</td><td>42738</td><td>lauro de freitas</td><td>BA</td></tr>\n",
              "<tr><td>166e8f1381e096519...</td><td>88780</td><td>imbituba</td><td>SC</td></tr>\n",
              "<tr><td>e38db885400cd35c7...</td><td>70740</td><td>brasilia</td><td>DF</td></tr>\n",
              "<tr><td>d2e753bb80b7d4faa...</td><td>45810</td><td>porto seguro</td><td>BA</td></tr>\n",
              "<tr><td>f9ec7093df3a7b346...</td><td>5138</td><td>sao paulo</td><td>SP</td></tr>\n",
              "</table>\n",
              "only showing top 20 rows\n"
            ]
          },
          "metadata": {}
        }
      ]
    },
    {
      "cell_type": "code",
      "source": [
        "df_sellers_prep = df_sellers.select(\n",
        "    col(\"seller_id\").alias(\"id_vendedor\"),\n",
        "    col(\"seller_zip_code_prefix\").alias(\"cep_vendedor\"),\n",
        "    col(\"seller_city\").alias(\"cidade_vendedor\"),\n",
        "    col(\"seller_state\").alias(\"estado_vendedor\")\n",
        ")\n",
        "\n",
        "# Visualizando dados\n",
        "df_sellers_prep.show(10)"
      ],
      "metadata": {
        "colab": {
          "base_uri": "https://localhost:8080/"
        },
        "id": "ZNSrJTWIoHHh",
        "outputId": "14d812cf-8688-4145-f390-a23d9900ddd7"
      },
      "execution_count": null,
      "outputs": [
        {
          "output_type": "stream",
          "name": "stdout",
          "text": [
            "+--------------------+------------+-----------------+---------------+\n",
            "|         id_vendedor|cep_vendedor|  cidade_vendedor|estado_vendedor|\n",
            "+--------------------+------------+-----------------+---------------+\n",
            "|3442f8959a84dea7e...|       13023|         campinas|             SP|\n",
            "|d1b65fc7debc3361e...|       13844|       mogi guacu|             SP|\n",
            "|ce3ad9de960102d06...|       20031|   rio de janeiro|             RJ|\n",
            "|c0f3eea2e14555b6f...|        4195|        sao paulo|             SP|\n",
            "|51a04a8a6bdcb23de...|       12914|braganca paulista|             SP|\n",
            "|c240c4061717ac180...|       20920|   rio de janeiro|             RJ|\n",
            "|e49c26c3edfa46d22...|       55325|           brejao|             PE|\n",
            "|1b938a7ec6ac5061a...|       16304|        penapolis|             SP|\n",
            "|768a86e36ad6aae3d...|        1529|        sao paulo|             SP|\n",
            "|ccc4bbb5f32a6ab2b...|       80310|         curitiba|             PR|\n",
            "+--------------------+------------+-----------------+---------------+\n",
            "only showing top 10 rows\n",
            "\n"
          ]
        }
      ]
    },
    {
      "cell_type": "markdown",
      "source": [
        "### Dropar"
      ],
      "metadata": {
        "id": "fBxZWFPXohro"
      }
    },
    {
      "cell_type": "code",
      "source": [
        "display(df_geolocation)"
      ],
      "metadata": {
        "colab": {
          "base_uri": "https://localhost:8080/",
          "height": 511
        },
        "id": "w2e1QV4vlOMa",
        "outputId": "5fc82722-06b8-4c72-dc36-b32986c65284"
      },
      "execution_count": null,
      "outputs": [
        {
          "output_type": "display_data",
          "data": {
            "text/plain": [
              "+---------------------------+-------------------+-------------------+----------------+-----------------+\n",
              "|geolocation_zip_code_prefix|    geolocation_lat|    geolocation_lng|geolocation_city|geolocation_state|\n",
              "+---------------------------+-------------------+-------------------+----------------+-----------------+\n",
              "|                       1037| -23.54562128115268| -46.63929204800168|       sao paulo|               SP|\n",
              "|                       1046|-23.546081127035535| -46.64482029837157|       sao paulo|               SP|\n",
              "|                       1046| -23.54612896641469| -46.64295148361138|       sao paulo|               SP|\n",
              "|                       1041|  -23.5443921648681| -46.63949930627844|       sao paulo|               SP|\n",
              "|                       1035|-23.541577961711493| -46.64160722329613|       sao paulo|               SP|\n",
              "|                       1012|-23.547762303364266| -46.63536053788448|       são paulo|               SP|\n",
              "|                       1047|-23.546273112412678| -46.64122516971552|       sao paulo|               SP|\n",
              "|                       1013|-23.546923208436723|  -46.6342636964915|       sao paulo|               SP|\n",
              "|                       1029|-23.543769055769133| -46.63427784085132|       sao paulo|               SP|\n",
              "|                       1011|-23.547639550320632| -46.63603162315495|       sao paulo|               SP|\n",
              "|                       1013|-23.547325128224376| -46.63418378613892|       sao paulo|               SP|\n",
              "|                       1032| -23.53841810407414|-46.634778375266734|       sao paulo|               SP|\n",
              "|                       1014|-23.546435343326205| -46.63383023397196|       sao paulo|               SP|\n",
              "|                       1012|-23.548945985189434| -46.63467113292871|       sao paulo|               SP|\n",
              "|                       1037|-23.545187340816042| -46.63785524104107|       são paulo|               SP|\n",
              "|                       1046|-23.546081127035535| -46.64482029837157|       sao paulo|               SP|\n",
              "|                       1039|-23.541883009983316| -46.63991946670314|       sao paulo|               SP|\n",
              "|                       1024|-23.541389521053937|-46.629899087812184|       são paulo|               SP|\n",
              "|                       1009| -23.54693540437998| -46.63658792659698|       sao paulo|               SP|\n",
              "|                       1046|-23.545884279214015|-46.643163191240035|       sao paulo|               SP|\n",
              "+---------------------------+-------------------+-------------------+----------------+-----------------+\n",
              "only showing top 20 rows"
            ],
            "text/html": [
              "<table border='1'>\n",
              "<tr><th>geolocation_zip_code_prefix</th><th>geolocation_lat</th><th>geolocation_lng</th><th>geolocation_city</th><th>geolocation_state</th></tr>\n",
              "<tr><td>1037</td><td>-23.54562128115268</td><td>-46.63929204800168</td><td>sao paulo</td><td>SP</td></tr>\n",
              "<tr><td>1046</td><td>-23.546081127035535</td><td>-46.64482029837157</td><td>sao paulo</td><td>SP</td></tr>\n",
              "<tr><td>1046</td><td>-23.54612896641469</td><td>-46.64295148361138</td><td>sao paulo</td><td>SP</td></tr>\n",
              "<tr><td>1041</td><td>-23.5443921648681</td><td>-46.63949930627844</td><td>sao paulo</td><td>SP</td></tr>\n",
              "<tr><td>1035</td><td>-23.541577961711493</td><td>-46.64160722329613</td><td>sao paulo</td><td>SP</td></tr>\n",
              "<tr><td>1012</td><td>-23.547762303364266</td><td>-46.63536053788448</td><td>são paulo</td><td>SP</td></tr>\n",
              "<tr><td>1047</td><td>-23.546273112412678</td><td>-46.64122516971552</td><td>sao paulo</td><td>SP</td></tr>\n",
              "<tr><td>1013</td><td>-23.546923208436723</td><td>-46.6342636964915</td><td>sao paulo</td><td>SP</td></tr>\n",
              "<tr><td>1029</td><td>-23.543769055769133</td><td>-46.63427784085132</td><td>sao paulo</td><td>SP</td></tr>\n",
              "<tr><td>1011</td><td>-23.547639550320632</td><td>-46.63603162315495</td><td>sao paulo</td><td>SP</td></tr>\n",
              "<tr><td>1013</td><td>-23.547325128224376</td><td>-46.63418378613892</td><td>sao paulo</td><td>SP</td></tr>\n",
              "<tr><td>1032</td><td>-23.53841810407414</td><td>-46.634778375266734</td><td>sao paulo</td><td>SP</td></tr>\n",
              "<tr><td>1014</td><td>-23.546435343326205</td><td>-46.63383023397196</td><td>sao paulo</td><td>SP</td></tr>\n",
              "<tr><td>1012</td><td>-23.548945985189434</td><td>-46.63467113292871</td><td>sao paulo</td><td>SP</td></tr>\n",
              "<tr><td>1037</td><td>-23.545187340816042</td><td>-46.63785524104107</td><td>são paulo</td><td>SP</td></tr>\n",
              "<tr><td>1046</td><td>-23.546081127035535</td><td>-46.64482029837157</td><td>sao paulo</td><td>SP</td></tr>\n",
              "<tr><td>1039</td><td>-23.541883009983316</td><td>-46.63991946670314</td><td>sao paulo</td><td>SP</td></tr>\n",
              "<tr><td>1024</td><td>-23.541389521053937</td><td>-46.629899087812184</td><td>são paulo</td><td>SP</td></tr>\n",
              "<tr><td>1009</td><td>-23.54693540437998</td><td>-46.63658792659698</td><td>sao paulo</td><td>SP</td></tr>\n",
              "<tr><td>1046</td><td>-23.545884279214015</td><td>-46.643163191240035</td><td>sao paulo</td><td>SP</td></tr>\n",
              "</table>\n",
              "only showing top 20 rows\n"
            ]
          },
          "metadata": {}
        }
      ]
    },
    {
      "cell_type": "code",
      "source": [
        "df_geo_dropped = df_geolocation.drop(\"geolocation_state\")\n",
        "df_geo_dropped.show"
      ],
      "metadata": {
        "colab": {
          "base_uri": "https://localhost:8080/"
        },
        "id": "1GK1yGZ3nIHM",
        "outputId": "182e3ed9-5077-4842-f2b1-00d9edbaafc9"
      },
      "execution_count": null,
      "outputs": [
        {
          "output_type": "execute_result",
          "data": {
            "text/plain": [
              "<bound method DataFrame.show of +---------------------------+-------------------+-------------------+----------------+\n",
              "|geolocation_zip_code_prefix|    geolocation_lat|    geolocation_lng|geolocation_city|\n",
              "+---------------------------+-------------------+-------------------+----------------+\n",
              "|                       1037| -23.54562128115268| -46.63929204800168|       sao paulo|\n",
              "|                       1046|-23.546081127035535| -46.64482029837157|       sao paulo|\n",
              "|                       1046| -23.54612896641469| -46.64295148361138|       sao paulo|\n",
              "|                       1041|  -23.5443921648681| -46.63949930627844|       sao paulo|\n",
              "|                       1035|-23.541577961711493| -46.64160722329613|       sao paulo|\n",
              "|                       1012|-23.547762303364266| -46.63536053788448|       são paulo|\n",
              "|                       1047|-23.546273112412678| -46.64122516971552|       sao paulo|\n",
              "|                       1013|-23.546923208436723|  -46.6342636964915|       sao paulo|\n",
              "|                       1029|-23.543769055769133| -46.63427784085132|       sao paulo|\n",
              "|                       1011|-23.547639550320632| -46.63603162315495|       sao paulo|\n",
              "|                       1013|-23.547325128224376| -46.63418378613892|       sao paulo|\n",
              "|                       1032| -23.53841810407414|-46.634778375266734|       sao paulo|\n",
              "|                       1014|-23.546435343326205| -46.63383023397196|       sao paulo|\n",
              "|                       1012|-23.548945985189434| -46.63467113292871|       sao paulo|\n",
              "|                       1037|-23.545187340816042| -46.63785524104107|       são paulo|\n",
              "|                       1046|-23.546081127035535| -46.64482029837157|       sao paulo|\n",
              "|                       1039|-23.541883009983316| -46.63991946670314|       sao paulo|\n",
              "|                       1024|-23.541389521053937|-46.629899087812184|       são paulo|\n",
              "|                       1009| -23.54693540437998| -46.63658792659698|       sao paulo|\n",
              "|                       1046|-23.545884279214015|-46.643163191240035|       sao paulo|\n",
              "+---------------------------+-------------------+-------------------+----------------+\n",
              "only showing top 20 rows\n",
              ">"
            ]
          },
          "metadata": {},
          "execution_count": 52
        }
      ]
    },
    {
      "cell_type": "code",
      "source": [
        "df_geolocation.drop(\"geolocation_city\", \"geolocation_state\").show(5)"
      ],
      "metadata": {
        "colab": {
          "base_uri": "https://localhost:8080/"
        },
        "id": "4rypcWryoRjb",
        "outputId": "3e2b8dbd-449a-472e-8ee2-90e6514aeb88"
      },
      "execution_count": null,
      "outputs": [
        {
          "output_type": "stream",
          "name": "stdout",
          "text": [
            "+---------------------------+-------------------+------------------+\n",
            "|geolocation_zip_code_prefix|    geolocation_lat|   geolocation_lng|\n",
            "+---------------------------+-------------------+------------------+\n",
            "|                       1037| -23.54562128115268|-46.63929204800168|\n",
            "|                       1046|-23.546081127035535|-46.64482029837157|\n",
            "|                       1046| -23.54612896641469|-46.64295148361138|\n",
            "|                       1041|  -23.5443921648681|-46.63949930627844|\n",
            "|                       1035|-23.541577961711493|-46.64160722329613|\n",
            "+---------------------------+-------------------+------------------+\n",
            "only showing top 5 rows\n",
            "\n"
          ]
        }
      ]
    },
    {
      "cell_type": "code",
      "source": [
        "df_geolocation.show()"
      ],
      "metadata": {
        "colab": {
          "base_uri": "https://localhost:8080/"
        },
        "id": "dsWsZRKHoTtt",
        "outputId": "e4a939ff-71d3-436d-91cb-f825518e27cc"
      },
      "execution_count": null,
      "outputs": [
        {
          "output_type": "stream",
          "name": "stdout",
          "text": [
            "+---------------------------+-------------------+-------------------+----------------+-----------------+\n",
            "|geolocation_zip_code_prefix|    geolocation_lat|    geolocation_lng|geolocation_city|geolocation_state|\n",
            "+---------------------------+-------------------+-------------------+----------------+-----------------+\n",
            "|                       1037| -23.54562128115268| -46.63929204800168|       sao paulo|               SP|\n",
            "|                       1046|-23.546081127035535| -46.64482029837157|       sao paulo|               SP|\n",
            "|                       1046| -23.54612896641469| -46.64295148361138|       sao paulo|               SP|\n",
            "|                       1041|  -23.5443921648681| -46.63949930627844|       sao paulo|               SP|\n",
            "|                       1035|-23.541577961711493| -46.64160722329613|       sao paulo|               SP|\n",
            "|                       1012|-23.547762303364266| -46.63536053788448|       são paulo|               SP|\n",
            "|                       1047|-23.546273112412678| -46.64122516971552|       sao paulo|               SP|\n",
            "|                       1013|-23.546923208436723|  -46.6342636964915|       sao paulo|               SP|\n",
            "|                       1029|-23.543769055769133| -46.63427784085132|       sao paulo|               SP|\n",
            "|                       1011|-23.547639550320632| -46.63603162315495|       sao paulo|               SP|\n",
            "|                       1013|-23.547325128224376| -46.63418378613892|       sao paulo|               SP|\n",
            "|                       1032| -23.53841810407414|-46.634778375266734|       sao paulo|               SP|\n",
            "|                       1014|-23.546435343326205| -46.63383023397196|       sao paulo|               SP|\n",
            "|                       1012|-23.548945985189434| -46.63467113292871|       sao paulo|               SP|\n",
            "|                       1037|-23.545187340816042| -46.63785524104107|       são paulo|               SP|\n",
            "|                       1046|-23.546081127035535| -46.64482029837157|       sao paulo|               SP|\n",
            "|                       1039|-23.541883009983316| -46.63991946670314|       sao paulo|               SP|\n",
            "|                       1024|-23.541389521053937|-46.629899087812184|       são paulo|               SP|\n",
            "|                       1009| -23.54693540437998| -46.63658792659698|       sao paulo|               SP|\n",
            "|                       1046|-23.545884279214015|-46.643163191240035|       sao paulo|               SP|\n",
            "+---------------------------+-------------------+-------------------+----------------+-----------------+\n",
            "only showing top 20 rows\n",
            "\n"
          ]
        }
      ]
    }
  ]
}